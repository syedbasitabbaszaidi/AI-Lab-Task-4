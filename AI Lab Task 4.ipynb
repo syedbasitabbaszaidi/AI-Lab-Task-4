{
 "cells": [
  {
   "cell_type": "markdown",
   "id": "8aa346c0",
   "metadata": {},
   "source": [
    "# LUHN Algorithm  "
   ]
  },
  {
   "cell_type": "code",
   "execution_count": 35,
   "id": "c089639a",
   "metadata": {},
   "outputs": [
    {
     "name": "stdout",
     "output_type": "stream",
     "text": [
      "Enter code:1\n",
      "Code must be of 16 numbers\n",
      "Enter code:4782780034318595\n",
      "Valid\n"
     ]
    }
   ],
   "source": [
    "while True:\n",
    "    code = input(\"Enter code:\")\n",
    "    if len(code) != 16:\n",
    "        print(\"Code must be of 16 numbers\")\n",
    "    else:\n",
    "        break\n",
    "code = list(code)\n",
    "a = code[-1]\n",
    "code[-1] = \"X\"\n",
    "code.pop()\n",
    "code.reverse()\n",
    "code.append(\"X\")\n",
    "m = 0\n",
    "for i in range(len(code)):\n",
    "    try:\n",
    "        if i % 2 == 0:\n",
    "            b = int(code[i])\n",
    "            b *= 2\n",
    "            code[m] = str(b)\n",
    "            m += 2\n",
    "    except:\n",
    "        pass\n",
    "for i in range(len(code)):\n",
    "    if code[i] != \"X\" and int(code[i]) > 9 :\n",
    "        b = int(code[i])\n",
    "        b -= 9\n",
    "        code[i] = str(b)\n",
    "code[-1] = a\n",
    "sum1 = 0\n",
    "for i in code:\n",
    "    sum1 += int(i)\n",
    "if sum1 % 10 == 0:\n",
    "    print(\"Valid\")\n",
    "else:\n",
    "    print(\"Invalid\")"
   ]
  },
  {
   "cell_type": "markdown",
   "id": "7c7cbbf9",
   "metadata": {},
   "source": [
    "# Removing Punctuations "
   ]
  },
  {
   "cell_type": "code",
   "execution_count": 57,
   "id": "2685f044",
   "metadata": {},
   "outputs": [
    {
     "name": "stdout",
     "output_type": "stream",
     "text": [
      "Enter string:s$#ad/*\n",
      "String without punctuations : sad\n"
     ]
    }
   ],
   "source": [
    "string = input(\"Enter string:\")\n",
    "without_punc = \"\"\n",
    "for i in string:\n",
    "    if i.isalpha():\n",
    "        without_punc += i\n",
    "print(f\"String without punctuations : {without_punc}\")"
   ]
  },
  {
   "cell_type": "markdown",
   "id": "7f0a5c3f",
   "metadata": {},
   "source": [
    "# Sorting Text"
   ]
  },
  {
   "cell_type": "code",
   "execution_count": 14,
   "id": "205d06b1",
   "metadata": {},
   "outputs": [
    {
     "name": "stdout",
     "output_type": "stream",
     "text": [
      "Enter string: Basit\n",
      "Sorted string :aBist\n"
     ]
    }
   ],
   "source": [
    "string = input(\"Enter string: \")\n",
    "string = list(string)\n",
    "for i in range(len(string)-1):\n",
    "    for j in range(len(string)-i-1):\n",
    "        if string[j].lower() > string[j+1].lower():\n",
    "            string[j],string[j+1] = string[j+1],string[j]\n",
    "sorted_string = \"\".join(string)\n",
    "print(f\"Sorted string :{sorted_string}\")"
   ]
  },
  {
   "cell_type": "code",
   "execution_count": 13,
   "id": "8455aa60",
   "metadata": {},
   "outputs": [
    {
     "name": "stdout",
     "output_type": "stream",
     "text": [
      "A\n"
     ]
    }
   ],
   "source": [
    "if \"z\" >\"A\":\n",
    "    print(\"A\")\n",
    "else:\n",
    "    print(\"B\")"
   ]
  },
  {
   "cell_type": "code",
   "execution_count": null,
   "id": "9b49d646",
   "metadata": {},
   "outputs": [],
   "source": []
  }
 ],
 "metadata": {
  "kernelspec": {
   "display_name": "Python 3 (ipykernel)",
   "language": "python",
   "name": "python3"
  },
  "language_info": {
   "codemirror_mode": {
    "name": "ipython",
    "version": 3
   },
   "file_extension": ".py",
   "mimetype": "text/x-python",
   "name": "python",
   "nbconvert_exporter": "python",
   "pygments_lexer": "ipython3",
   "version": "3.11.5"
  }
 },
 "nbformat": 4,
 "nbformat_minor": 5
}
